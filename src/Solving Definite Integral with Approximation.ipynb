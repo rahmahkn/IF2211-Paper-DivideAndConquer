{
 "cells": [
  {
   "cell_type": "markdown",
   "metadata": {},
   "source": [
    "# Solving Definite Integral with Approximation Using Divide and Conquer Algorithm"
   ]
  },
  {
   "cell_type": "code",
   "execution_count": null,
   "metadata": {},
   "outputs": [],
   "source": [
    "#Import library\n",
    "import matplotlib.pyplot as plt\n",
    "%matplotlib inline\n",
    "import numpy as np\n",
    "import sys\n",
    "sys.setrecursionlimit(10000)\n",
    "import time"
   ]
  },
  {
   "cell_type": "markdown",
   "metadata": {},
   "source": [
    "# Procedure for visualizing"
   ]
  },
  {
   "cell_type": "code",
   "execution_count": null,
   "metadata": {},
   "outputs": [],
   "source": [
    "#Create procedure to visualize Riemann sum\n",
    "#Code for visualization is adapting from https://www.math.ubc.ca/~pwalls/math-python/integration/riemann-sums/ and\n",
    "#https://www.math.ubc.ca/~pwalls/math-python/integration/trapezoid-rule/\n",
    "\n",
    "def visualize(fx):\n",
    "    f = fx\n",
    "    a = int(input(\"Lower limit (a): \"))\n",
    "    b = int(input(\"Upper limit (b): \"))\n",
    "    N = int(input(\"Number of partitions (N): \"))\n",
    "    n = 10 # Use n*N+1 points to plot the function smoothly\n",
    "    wid = (b-a)/N\n",
    "\n",
    "    x = np.linspace(a,b,N+1)\n",
    "    y = f(x)\n",
    "\n",
    "    X = np.linspace(a,b,n*N+1)\n",
    "    Y = f(X)\n",
    "\n",
    "    plt.figure(figsize=(15,10))\n",
    "\n",
    "    # LEFT RIEMANN SUM\n",
    "    plt.subplot(2,2,1)\n",
    "    plt.plot(X,Y,'b')\n",
    "    x_left = x[:-1] # Left endpoints\n",
    "    y_left = y[:-1]\n",
    "    plt.plot(x_left,y_left,'b.',markersize=10)\n",
    "    plt.bar(x_left,y_left,width=wid,alpha=0.2,align='edge',edgecolor='g', color='green')\n",
    "    plt.title('Left Riemann Sum, N = {}'.format(N))\n",
    "\n",
    "    # MIDPOINT RIEMANN SUM\n",
    "    plt.subplot(2,2,2)\n",
    "    plt.plot(X,Y,'b')\n",
    "    x_mid = (x[:-1] + x[1:])/2 # Midpoints\n",
    "    y_mid = f(x_mid)\n",
    "    plt.plot(x_mid, y_mid,'b.',markersize=10)\n",
    "    plt.bar(x_mid, y_mid, width=wid, alpha=0.2, edgecolor='g', color='green')\n",
    "    plt.title('Midpoint Riemann Sum, N = {}'.format(N))\n",
    "\n",
    "    # RIGHT RIEMANN SUM\n",
    "    plt.subplot(2,2,3)\n",
    "    plt.plot(X,Y,'b')\n",
    "    x_right = x[1:] # Right endpoints\n",
    "    y_right = y[1:]\n",
    "    plt.plot(x_right,y_right,'b.',markersize=10)\n",
    "    plt.bar(x_right, y_right, width=-wid, alpha=0.2, align='edge', edgecolor='g', color='green')\n",
    "    plt.title('Right Riemann Sum, N = {}'.format(N))\n",
    "    \n",
    "    # TRAPEZOIDAL RULE\n",
    "    plt.subplot(2,2,4)\n",
    "    plt.plot(X,Y,'b')\n",
    "    for i in range(N):\n",
    "        x_tr = [x[i],x[i],x[i+1],x[i+1]]\n",
    "        y_tr = [0,f(x[i]),f(x[i+1]),0]\n",
    "        plt.fill(x_tr, y_tr ,'b.', edgecolor='b', alpha=0.2, color='green')\n",
    "    plt.title('Trapezoidal Rule, N = {}'.format(N))\n",
    "\n",
    "    plt.show()\n",
    "    \n",
    "    # PRINT RESULT\n",
    "    left_result = calculate(\"left\", fx, a, b, N, wid)\n",
    "    print(\"Left Riemann sum = \" + str(left_result))\n",
    "    \n",
    "    mid_result = calculate(\"mid\", fx, a, b, N, wid)\n",
    "    print(\"Midpoint Riemann sum = \" + str(mid_result))\n",
    "    \n",
    "    right_result = calculate(\"right\", fx, a, b, N, wid)\n",
    "    print(\"Right Riemann sum = \" + str(right_result))\n",
    "    \n",
    "    trapezoid_result = calculate(\"trapezoid\", fx, a, b, N, wid)\n",
    "    print(\"Trapezoidal rule = \" + str(trapezoid_result))"
   ]
  },
  {
   "cell_type": "markdown",
   "metadata": {},
   "source": [
    "# Function for calculating area of partitions"
   ]
  },
  {
   "cell_type": "code",
   "execution_count": null,
   "metadata": {},
   "outputs": [],
   "source": [
    "# Create function to calculate whole area of partitions using divide and conquer algorithm\n",
    "\n",
    "def calculate(typ, fx, a, b, N, width):\n",
    "    if (b-a <= width):\n",
    "        if typ == \"left\":\n",
    "            return fx(a) * width\n",
    "        elif typ == \"mid\":\n",
    "            return fx((a+b)/2) * width\n",
    "        elif typ == \"right\":\n",
    "            return fx(b) * width\n",
    "        elif typ == \"trapezoid\":\n",
    "            return (fx(a) + fx(b)) * width * 0.5\n",
    "    else:\n",
    "        N_1 = N//2\n",
    "        N_2 = N - N_1\n",
    "        \n",
    "        a_1 = a\n",
    "        b_1 = a + N_1 * width\n",
    "        \n",
    "        a_2 = b_1\n",
    "        b_2 = b\n",
    "        \n",
    "        return calculate(typ, fx, a_1, b_1, N_1, width) + calculate(typ, fx, a_2, b_2, N_2, width)"
   ]
  },
  {
   "cell_type": "markdown",
   "metadata": {},
   "source": [
    "# Test cases"
   ]
  },
  {
   "cell_type": "code",
   "execution_count": null,
   "metadata": {},
   "outputs": [],
   "source": [
    "#Test case 1\n",
    "#f(x) = x**2\n",
    "\n",
    "function1 = lambda x : x**2\n",
    "visualize(function1)"
   ]
  },
  {
   "cell_type": "code",
   "execution_count": null,
   "metadata": {},
   "outputs": [],
   "source": [
    "#Test case 2\n",
    "#f(x) = x**2.5 + 3\n",
    "\n",
    "function2 = lambda x : x**2.5 + 3 \n",
    "visualize(function2)"
   ]
  },
  {
   "cell_type": "code",
   "execution_count": null,
   "metadata": {},
   "outputs": [],
   "source": [
    "#Test case 3\n",
    "#f(x) = x**0.5 - 2\n",
    "\n",
    "function3 = lambda x : x**0.5 - 2 \n",
    "visualize(function3)"
   ]
  },
  {
   "cell_type": "code",
   "execution_count": null,
   "metadata": {},
   "outputs": [],
   "source": [
    "#Test case 4\n",
    "#f(x) = x + 1\n",
    "\n",
    "function4 = lambda x : x + 1\n",
    "visualize(function4)"
   ]
  },
  {
   "cell_type": "code",
   "execution_count": null,
   "metadata": {},
   "outputs": [],
   "source": [
    "# Author\n",
    "# Rahmah Khoirussyifa' Nurdini\n",
    "# 13519013\n",
    "# Teknik Informatika"
   ]
  },
  {
   "cell_type": "code",
   "execution_count": null,
   "metadata": {},
   "outputs": [],
   "source": []
  }
 ],
 "metadata": {
  "kernelspec": {
   "display_name": "Python 3",
   "language": "python",
   "name": "python3"
  },
  "language_info": {
   "codemirror_mode": {
    "name": "ipython",
    "version": 3
   },
   "file_extension": ".py",
   "mimetype": "text/x-python",
   "name": "python",
   "nbconvert_exporter": "python",
   "pygments_lexer": "ipython3",
   "version": "3.7.6"
  }
 },
 "nbformat": 4,
 "nbformat_minor": 4
}
